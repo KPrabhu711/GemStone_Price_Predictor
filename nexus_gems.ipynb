{
  "nbformat": 4,
  "nbformat_minor": 0,
  "metadata": {
    "colab": {
      "provenance": [],
      "collapsed_sections": [
        "E2KoY8u6RavF"
      ],
      "include_colab_link": true
    },
    "kernelspec": {
      "name": "python3",
      "display_name": "Python 3"
    },
    "language_info": {
      "name": "python"
    }
  },
  "cells": [
    {
      "cell_type": "markdown",
      "metadata": {
        "id": "view-in-github",
        "colab_type": "text"
      },
      "source": [
        "<a href=\"https://colab.research.google.com/github/KPrabhu711/GemStone_Price_Predictor/blob/main/nexus_gems.ipynb\" target=\"_parent\"><img src=\"https://colab.research.google.com/assets/colab-badge.svg\" alt=\"Open In Colab\"/></a>"
      ]
    },
    {
      "cell_type": "markdown",
      "source": [
        "# Part 1: Importing Required Libraries"
      ],
      "metadata": {
        "id": "EuR0wQmyou2j"
      }
    },
    {
      "cell_type": "code",
      "execution_count": null,
      "metadata": {
        "id": "uzF5kL5AogPh"
      },
      "outputs": [],
      "source": [
        "import pandas as pd\n",
        "import numpy as np\n",
        "from sklearn.impute import SimpleImputer\n",
        "from sklearn.preprocessing import MinMaxScaler, StandardScaler"
      ]
    },
    {
      "cell_type": "markdown",
      "source": [
        "# Load data set\n"
      ],
      "metadata": {
        "id": "jH-rCTKcIAS8"
      }
    },
    {
      "cell_type": "code",
      "source": [
        "import kagglehub\n",
        "\n",
        "# Download latest version\n",
        "path = kagglehub.dataset_download(\"colearninglounge/gemstone-price-prediction\")\n",
        "\n",
        "print(\"Path to dataset files:\", path)"
      ],
      "metadata": {
        "id": "d83nOZVwIHi_",
        "colab": {
          "base_uri": "https://localhost:8080/"
        },
        "outputId": "ab77f264-a180-494f-c262-4123fe1cb610"
      },
      "execution_count": null,
      "outputs": [
        {
          "output_type": "stream",
          "name": "stdout",
          "text": [
            "Warning: Looks like you're using an outdated `kagglehub` version (installed: 0.3.5), please consider upgrading to the latest version (0.3.6).\n",
            "Path to dataset files: /root/.cache/kagglehub/datasets/colearninglounge/gemstone-price-prediction/versions/2\n"
          ]
        }
      ]
    },
    {
      "cell_type": "code",
      "source": [
        "df = pd.read_csv(\"/root/.cache/kagglehub/datasets/colearninglounge/gemstone-price-prediction/versions/2/cubic_zirconia.csv\")  # Replace with your file name\n"
      ],
      "metadata": {
        "id": "bHZagKvoJPaK"
      },
      "execution_count": null,
      "outputs": []
    },
    {
      "cell_type": "markdown",
      "source": [
        "# Explore data set\n"
      ],
      "metadata": {
        "id": "iKR8b7wIKRCO"
      }
    },
    {
      "cell_type": "code",
      "source": [
        "print(df.head())"
      ],
      "metadata": {
        "colab": {
          "base_uri": "https://localhost:8080/"
        },
        "id": "qPxPdZLbKWpB",
        "outputId": "a3ee14d4-90e1-4af0-e335-1df02727340d"
      },
      "execution_count": null,
      "outputs": [
        {
          "output_type": "stream",
          "name": "stdout",
          "text": [
            "   Unnamed: 0  carat        cut color clarity  depth  table     x     y     z  \\\n",
            "0           1   0.30      Ideal     E     SI1   62.1   58.0  4.27  4.29  2.66   \n",
            "1           2   0.33    Premium     G      IF   60.8   58.0  4.42  4.46  2.70   \n",
            "2           3   0.90  Very Good     E    VVS2   62.2   60.0  6.04  6.12  3.78   \n",
            "3           4   0.42      Ideal     F     VS1   61.6   56.0  4.82  4.80  2.96   \n",
            "4           5   0.31      Ideal     F    VVS1   60.4   59.0  4.35  4.43  2.65   \n",
            "\n",
            "   price  \n",
            "0    499  \n",
            "1    984  \n",
            "2   6289  \n",
            "3   1082  \n",
            "4    779  \n"
          ]
        }
      ]
    },
    {
      "cell_type": "code",
      "source": [
        "print(df.info())\n",
        "\n"
      ],
      "metadata": {
        "colab": {
          "base_uri": "https://localhost:8080/"
        },
        "id": "P7k-xxpTKwx7",
        "outputId": "cafa2e38-f2d5-40e1-f385-b8ce963141ed"
      },
      "execution_count": null,
      "outputs": [
        {
          "output_type": "stream",
          "name": "stdout",
          "text": [
            "<class 'pandas.core.frame.DataFrame'>\n",
            "RangeIndex: 26967 entries, 0 to 26966\n",
            "Data columns (total 11 columns):\n",
            " #   Column      Non-Null Count  Dtype  \n",
            "---  ------      --------------  -----  \n",
            " 0   Unnamed: 0  26967 non-null  int64  \n",
            " 1   carat       26967 non-null  float64\n",
            " 2   cut         26967 non-null  object \n",
            " 3   color       26967 non-null  object \n",
            " 4   clarity     26967 non-null  object \n",
            " 5   depth       26270 non-null  float64\n",
            " 6   table       26967 non-null  float64\n",
            " 7   x           26967 non-null  float64\n",
            " 8   y           26967 non-null  float64\n",
            " 9   z           26967 non-null  float64\n",
            " 10  price       26967 non-null  int64  \n",
            "dtypes: float64(6), int64(2), object(3)\n",
            "memory usage: 2.3+ MB\n",
            "None\n"
          ]
        }
      ]
    },
    {
      "cell_type": "code",
      "source": [
        "print(df.describe())"
      ],
      "metadata": {
        "colab": {
          "base_uri": "https://localhost:8080/"
        },
        "id": "sY8M_ezbK6ns",
        "outputId": "84741548-87dc-40a7-f446-87fe0cdf78e6"
      },
      "execution_count": null,
      "outputs": [
        {
          "output_type": "stream",
          "name": "stdout",
          "text": [
            "         Unnamed: 0         carat         depth         table             x  \\\n",
            "count  26967.000000  26967.000000  26270.000000  26967.000000  26967.000000   \n",
            "mean   13484.000000      0.798375     61.745147     57.456080      5.729854   \n",
            "std     7784.846691      0.477745      1.412860      2.232068      1.128516   \n",
            "min        1.000000      0.200000     50.800000     49.000000      0.000000   \n",
            "25%     6742.500000      0.400000     61.000000     56.000000      4.710000   \n",
            "50%    13484.000000      0.700000     61.800000     57.000000      5.690000   \n",
            "75%    20225.500000      1.050000     62.500000     59.000000      6.550000   \n",
            "max    26967.000000      4.500000     73.600000     79.000000     10.230000   \n",
            "\n",
            "                  y             z         price  \n",
            "count  26967.000000  26967.000000  26967.000000  \n",
            "mean       5.733569      3.538057   3939.518115  \n",
            "std        1.166058      0.720624   4024.864666  \n",
            "min        0.000000      0.000000    326.000000  \n",
            "25%        4.710000      2.900000    945.000000  \n",
            "50%        5.710000      3.520000   2375.000000  \n",
            "75%        6.540000      4.040000   5360.000000  \n",
            "max       58.900000     31.800000  18818.000000  \n"
          ]
        }
      ]
    },
    {
      "cell_type": "code",
      "source": [
        "print(df.isnull().sum())  #identify missing values\n"
      ],
      "metadata": {
        "colab": {
          "base_uri": "https://localhost:8080/"
        },
        "id": "dYvZ5BUKLu_T",
        "outputId": "963ba327-c2fe-4a77-af9f-3b177e3aeb82"
      },
      "execution_count": null,
      "outputs": [
        {
          "output_type": "stream",
          "name": "stdout",
          "text": [
            "Unnamed: 0      0\n",
            "carat           0\n",
            "cut             0\n",
            "color           0\n",
            "clarity         0\n",
            "depth         697\n",
            "table           0\n",
            "x               0\n",
            "y               0\n",
            "z               0\n",
            "price           0\n",
            "dtype: int64\n"
          ]
        }
      ]
    },
    {
      "cell_type": "code",
      "source": [
        "imputer = SimpleImputer(strategy=\"mean\")  # You can use \"median\" or \"most_frequent\"\n",
        "df['depth'] = imputer.fit_transform(df[['depth']]) #impute the missing values in depth collumn\n"
      ],
      "metadata": {
        "id": "7SqvGHrKL5xA"
      },
      "execution_count": null,
      "outputs": []
    },
    {
      "cell_type": "markdown",
      "source": [
        "# Part 3: Removing Duplicate Rows"
      ],
      "metadata": {
        "id": "k88RirkLpgua"
      }
    },
    {
      "cell_type": "code",
      "source": [
        "# Removing duplicates based on all columns\n",
        "df_no_duplicates = df.drop_duplicates()\n",
        "print(df_no_duplicates.info())\n",
        "df=df_no_duplicates"
      ],
      "metadata": {
        "id": "cPVjvayCpoKC",
        "colab": {
          "base_uri": "https://localhost:8080/"
        },
        "outputId": "1f71ecdc-c131-458d-f94b-46e48b40cd81"
      },
      "execution_count": null,
      "outputs": [
        {
          "output_type": "stream",
          "name": "stdout",
          "text": [
            "<class 'pandas.core.frame.DataFrame'>\n",
            "RangeIndex: 26967 entries, 0 to 26966\n",
            "Data columns (total 11 columns):\n",
            " #   Column      Non-Null Count  Dtype  \n",
            "---  ------      --------------  -----  \n",
            " 0   Unnamed: 0  26967 non-null  int64  \n",
            " 1   carat       26967 non-null  float64\n",
            " 2   cut         26967 non-null  object \n",
            " 3   color       26967 non-null  object \n",
            " 4   clarity     26967 non-null  object \n",
            " 5   depth       26967 non-null  float64\n",
            " 6   table       26967 non-null  float64\n",
            " 7   x           26967 non-null  float64\n",
            " 8   y           26967 non-null  float64\n",
            " 9   z           26967 non-null  float64\n",
            " 10  price       26967 non-null  int64  \n",
            "dtypes: float64(6), int64(2), object(3)\n",
            "memory usage: 2.3+ MB\n",
            "None\n"
          ]
        }
      ]
    },
    {
      "cell_type": "markdown",
      "source": [
        "# Label Encoding\n",
        "\n"
      ],
      "metadata": {
        "id": "E2KoY8u6RavF"
      }
    },
    {
      "cell_type": "code",
      "source": [
        "df_backup = df.copy()\n"
      ],
      "metadata": {
        "id": "I-55g5EmTLpD"
      },
      "execution_count": null,
      "outputs": []
    },
    {
      "cell_type": "markdown",
      "source": [
        "Output Mapping:\n",
        "\n",
        "    Fair: 0\n",
        "    Good: 1\n",
        "    Very Good: 2\n",
        "    Premium: 3\n",
        "    Ideal: 4"
      ],
      "metadata": {
        "id": "tr4r1ZWST58L"
      }
    },
    {
      "cell_type": "code",
      "source": [
        "from sklearn.preprocessing import LabelEncoder\n",
        "\n",
        "# Define the order of the categories\n",
        "ordered_categories = ['Fair', 'Good', 'Very Good', 'Premium', 'Ideal']\n",
        "\n",
        "# Convert the column to a Categorical type with the specified order\n",
        "df['cut'] = pd.Categorical(df['cut'], categories=ordered_categories, ordered=True)\n",
        "\n",
        "# Apply Label Encoding\n",
        "le = LabelEncoder()\n",
        "df['cut'] = le.fit_transform(df['cut'])\n",
        "\n",
        "# Display the result\n",
        "print(df)"
      ],
      "metadata": {
        "colab": {
          "base_uri": "https://localhost:8080/"
        },
        "id": "fclyWPvgTQu7",
        "outputId": "24931ebc-2725-4fbd-ca9a-813fe9500ca8"
      },
      "execution_count": null,
      "outputs": [
        {
          "output_type": "stream",
          "name": "stdout",
          "text": [
            "       Unnamed: 0  carat  cut color clarity  depth  table     x     y     z  \\\n",
            "0               1   0.30    2     E     SI1   62.1   58.0  4.27  4.29  2.66   \n",
            "1               2   0.33    3     G      IF   60.8   58.0  4.42  4.46  2.70   \n",
            "2               3   0.90    4     E    VVS2   62.2   60.0  6.04  6.12  3.78   \n",
            "3               4   0.42    2     F     VS1   61.6   56.0  4.82  4.80  2.96   \n",
            "4               5   0.31    2     F    VVS1   60.4   59.0  4.35  4.43  2.65   \n",
            "...           ...    ...  ...   ...     ...    ...    ...   ...   ...   ...   \n",
            "26962       26963   1.11    3     G     SI1   62.3   58.0  6.61  6.52  4.09   \n",
            "26963       26964   0.33    2     H      IF   61.9   55.0  4.44  4.42  2.74   \n",
            "26964       26965   0.51    3     E     VS2   61.7   58.0  5.12  5.15  3.17   \n",
            "26965       26966   0.27    4     F    VVS2   61.8   56.0  4.19  4.20  2.60   \n",
            "26966       26967   1.25    3     J     SI1   62.0   58.0  6.90  6.88  4.27   \n",
            "\n",
            "       price  \n",
            "0        499  \n",
            "1        984  \n",
            "2       6289  \n",
            "3       1082  \n",
            "4        779  \n",
            "...      ...  \n",
            "26962   5408  \n",
            "26963   1114  \n",
            "26964   1656  \n",
            "26965    682  \n",
            "26966   5166  \n",
            "\n",
            "[26967 rows x 11 columns]\n"
          ]
        }
      ]
    },
    {
      "cell_type": "code",
      "source": [
        "print(df.info())\n",
        "print(df.describe())"
      ],
      "metadata": {
        "colab": {
          "base_uri": "https://localhost:8080/"
        },
        "id": "gID2--aXTktl",
        "outputId": "b047b768-b797-46a9-a4ff-f1aec615726f"
      },
      "execution_count": null,
      "outputs": [
        {
          "output_type": "stream",
          "name": "stdout",
          "text": [
            "<class 'pandas.core.frame.DataFrame'>\n",
            "RangeIndex: 26967 entries, 0 to 26966\n",
            "Data columns (total 11 columns):\n",
            " #   Column      Non-Null Count  Dtype  \n",
            "---  ------      --------------  -----  \n",
            " 0   Unnamed: 0  26967 non-null  int64  \n",
            " 1   carat       26967 non-null  float64\n",
            " 2   cut         26967 non-null  int64  \n",
            " 3   color       26967 non-null  object \n",
            " 4   clarity     26967 non-null  object \n",
            " 5   depth       26967 non-null  float64\n",
            " 6   table       26967 non-null  float64\n",
            " 7   x           26967 non-null  float64\n",
            " 8   y           26967 non-null  float64\n",
            " 9   z           26967 non-null  float64\n",
            " 10  price       26967 non-null  int64  \n",
            "dtypes: float64(6), int64(3), object(2)\n",
            "memory usage: 2.3+ MB\n",
            "None\n",
            "         Unnamed: 0         carat           cut         depth         table  \\\n",
            "count  26967.000000  26967.000000  26967.000000  26967.000000  26967.000000   \n",
            "mean   13484.000000      0.798375      2.554604     61.745147     57.456080   \n",
            "std     7784.846691      0.477745      1.024243      1.394481      2.232068   \n",
            "min        1.000000      0.200000      0.000000     50.800000     49.000000   \n",
            "25%     6742.500000      0.400000      2.000000     61.100000     56.000000   \n",
            "50%    13484.000000      0.700000      2.000000     61.800000     57.000000   \n",
            "75%    20225.500000      1.050000      3.000000     62.500000     59.000000   \n",
            "max    26967.000000      4.500000      4.000000     73.600000     79.000000   \n",
            "\n",
            "                  x             y             z         price  \n",
            "count  26967.000000  26967.000000  26967.000000  26967.000000  \n",
            "mean       5.729854      5.733569      3.538057   3939.518115  \n",
            "std        1.128516      1.166058      0.720624   4024.864666  \n",
            "min        0.000000      0.000000      0.000000    326.000000  \n",
            "25%        4.710000      4.710000      2.900000    945.000000  \n",
            "50%        5.690000      5.710000      3.520000   2375.000000  \n",
            "75%        6.550000      6.540000      4.040000   5360.000000  \n",
            "max       10.230000     58.900000     31.800000  18818.000000  \n"
          ]
        }
      ]
    },
    {
      "cell_type": "code",
      "source": [
        "import pandas as pd\n",
        "from sklearn.preprocessing import LabelEncoder\n",
        "\n",
        "# Define the order of the categories defghij\n",
        "ordered_categories = ['J', 'I', 'H', 'G', 'F', 'E', 'D']\n",
        "\n",
        "# Convert the column to a Categorical type with the specified order\n",
        "df['color'] = pd.Categorical(df['color'], categories=ordered_categories, ordered=True)\n",
        "\n",
        "# Apply Label Encoding\n",
        "le = LabelEncoder()\n",
        "df['color'] = le.fit_transform(df['color'])\n",
        "\n",
        "# Display the result\n",
        "print(df)\n"
      ],
      "metadata": {
        "colab": {
          "base_uri": "https://localhost:8080/"
        },
        "id": "ro16J-qzT-R0",
        "outputId": "d4c641a3-4fb4-4c73-a4d8-053cf33c46c8"
      },
      "execution_count": null,
      "outputs": [
        {
          "output_type": "stream",
          "name": "stdout",
          "text": [
            "       Unnamed: 0  carat  cut  color clarity  depth  table     x     y     z  \\\n",
            "0               1   0.30    2      1     SI1   62.1   58.0  4.27  4.29  2.66   \n",
            "1               2   0.33    3      3      IF   60.8   58.0  4.42  4.46  2.70   \n",
            "2               3   0.90    4      1    VVS2   62.2   60.0  6.04  6.12  3.78   \n",
            "3               4   0.42    2      2     VS1   61.6   56.0  4.82  4.80  2.96   \n",
            "4               5   0.31    2      2    VVS1   60.4   59.0  4.35  4.43  2.65   \n",
            "...           ...    ...  ...    ...     ...    ...    ...   ...   ...   ...   \n",
            "26962       26963   1.11    3      3     SI1   62.3   58.0  6.61  6.52  4.09   \n",
            "26963       26964   0.33    2      4      IF   61.9   55.0  4.44  4.42  2.74   \n",
            "26964       26965   0.51    3      1     VS2   61.7   58.0  5.12  5.15  3.17   \n",
            "26965       26966   0.27    4      2    VVS2   61.8   56.0  4.19  4.20  2.60   \n",
            "26966       26967   1.25    3      6     SI1   62.0   58.0  6.90  6.88  4.27   \n",
            "\n",
            "       price  \n",
            "0        499  \n",
            "1        984  \n",
            "2       6289  \n",
            "3       1082  \n",
            "4        779  \n",
            "...      ...  \n",
            "26962   5408  \n",
            "26963   1114  \n",
            "26964   1656  \n",
            "26965    682  \n",
            "26966   5166  \n",
            "\n",
            "[26967 rows x 11 columns]\n"
          ]
        }
      ]
    },
    {
      "cell_type": "code",
      "source": [
        "import pandas as pd\n",
        "from sklearn.preprocessing import LabelEncoder\n",
        "\n",
        "# Define the reverse order of clarity levels (from worst to best)\n",
        "reversed_clarity = ['I3', 'I2', 'I1', 'SI2', 'SI1', 'VS2', 'VS1', 'VVS2', 'VVS1', 'IF', 'FL']\n",
        "\n",
        "# Convert the clarity column to a categorical type with the specified reverse order\n",
        "df['clarity'] = pd.Categorical(df['clarity'], categories=reversed_clarity, ordered=True)\n",
        "\n",
        "# Apply Label Encoding\n",
        "le = LabelEncoder()\n",
        "df['clarity'] = le.fit_transform(df['clarity'])\n",
        "\n",
        "# Display the result\n",
        "print(df)\n"
      ],
      "metadata": {
        "colab": {
          "base_uri": "https://localhost:8080/"
        },
        "id": "Pj_N3f5XVNZZ",
        "outputId": "cca79721-96f2-4b67-f6c5-554c9846a433"
      },
      "execution_count": null,
      "outputs": [
        {
          "output_type": "stream",
          "name": "stdout",
          "text": [
            "       Unnamed: 0  carat  cut  color  clarity  depth  table     x     y     z  \\\n",
            "0               1   0.30    2      1        2   62.1   58.0  4.27  4.29  2.66   \n",
            "1               2   0.33    3      3        1   60.8   58.0  4.42  4.46  2.70   \n",
            "2               3   0.90    4      1        7   62.2   60.0  6.04  6.12  3.78   \n",
            "3               4   0.42    2      2        4   61.6   56.0  4.82  4.80  2.96   \n",
            "4               5   0.31    2      2        6   60.4   59.0  4.35  4.43  2.65   \n",
            "...           ...    ...  ...    ...      ...    ...    ...   ...   ...   ...   \n",
            "26962       26963   1.11    3      3        2   62.3   58.0  6.61  6.52  4.09   \n",
            "26963       26964   0.33    2      4        1   61.9   55.0  4.44  4.42  2.74   \n",
            "26964       26965   0.51    3      1        5   61.7   58.0  5.12  5.15  3.17   \n",
            "26965       26966   0.27    4      2        7   61.8   56.0  4.19  4.20  2.60   \n",
            "26966       26967   1.25    3      6        2   62.0   58.0  6.90  6.88  4.27   \n",
            "\n",
            "       price  \n",
            "0        499  \n",
            "1        984  \n",
            "2       6289  \n",
            "3       1082  \n",
            "4        779  \n",
            "...      ...  \n",
            "26962   5408  \n",
            "26963   1114  \n",
            "26964   1656  \n",
            "26965    682  \n",
            "26966   5166  \n",
            "\n",
            "[26967 rows x 11 columns]\n"
          ]
        }
      ]
    },
    {
      "cell_type": "markdown",
      "source": [
        "# Part 5: Handling Outliers Using IQR"
      ],
      "metadata": {
        "id": "NTyozEyZqLAW"
      }
    },
    {
      "cell_type": "code",
      "source": [
        "\n",
        "\n",
        "# Function to remove outliers using IQR\n",
        "def remove_outliers_iqr(df, columns):\n",
        "    for column in columns:\n",
        "        Q1 = df[column].quantile(0.25)  # First quartile (25th percentile)\n",
        "        Q3 = df[column].quantile(0.75)  # Third quartile (75th percentile)\n",
        "        IQR = Q3 - Q1  # Interquartile Range\n",
        "        lower_bound = Q1 - 1.5 * IQR\n",
        "        upper_bound = Q3 + 1.5 * IQR\n",
        "\n",
        "        # Filter out outliers\n",
        "        df = df[(df[column] >= lower_bound) & (df[column] <= upper_bound)]\n",
        "\n",
        "    return df\n",
        "\n",
        "# Specify columns and remove outliers\n",
        "columns_to_check = ['price']\n",
        "df_cleaned = remove_outliers_iqr(df, columns_to_check)\n",
        "\n",
        "print(\"Original DataFrame:\")\n",
        "print(df)\n",
        "print(\"\\nCleaned DataFrame:\")\n",
        "print(df_cleaned)\n",
        "df=df_cleaned\n"
      ],
      "metadata": {
        "id": "zUMr-55mqOHz",
        "colab": {
          "base_uri": "https://localhost:8080/"
        },
        "outputId": "20106943-10b4-4a64-aa44-f1745766a964"
      },
      "execution_count": null,
      "outputs": [
        {
          "output_type": "stream",
          "name": "stdout",
          "text": [
            "Original DataFrame:\n",
            "       Unnamed: 0  carat  cut  color  clarity  depth  table     x     y     z  \\\n",
            "0               1   0.30    2      1        2   62.1   58.0  4.27  4.29  2.66   \n",
            "1               2   0.33    3      3        1   60.8   58.0  4.42  4.46  2.70   \n",
            "2               3   0.90    4      1        7   62.2   60.0  6.04  6.12  3.78   \n",
            "3               4   0.42    2      2        4   61.6   56.0  4.82  4.80  2.96   \n",
            "4               5   0.31    2      2        6   60.4   59.0  4.35  4.43  2.65   \n",
            "...           ...    ...  ...    ...      ...    ...    ...   ...   ...   ...   \n",
            "26962       26963   1.11    3      3        2   62.3   58.0  6.61  6.52  4.09   \n",
            "26963       26964   0.33    2      4        1   61.9   55.0  4.44  4.42  2.74   \n",
            "26964       26965   0.51    3      1        5   61.7   58.0  5.12  5.15  3.17   \n",
            "26965       26966   0.27    4      2        7   61.8   56.0  4.19  4.20  2.60   \n",
            "26966       26967   1.25    3      6        2   62.0   58.0  6.90  6.88  4.27   \n",
            "\n",
            "       price  \n",
            "0        499  \n",
            "1        984  \n",
            "2       6289  \n",
            "3       1082  \n",
            "4        779  \n",
            "...      ...  \n",
            "26962   5408  \n",
            "26963   1114  \n",
            "26964   1656  \n",
            "26965    682  \n",
            "26966   5166  \n",
            "\n",
            "[26967 rows x 11 columns]\n",
            "\n",
            "Cleaned DataFrame:\n",
            "       Unnamed: 0  carat  cut  color  clarity  depth  table     x     y     z  \\\n",
            "0               1   0.30    2      1        2   62.1   58.0  4.27  4.29  2.66   \n",
            "1               2   0.33    3      3        1   60.8   58.0  4.42  4.46  2.70   \n",
            "2               3   0.90    4      1        7   62.2   60.0  6.04  6.12  3.78   \n",
            "3               4   0.42    2      2        4   61.6   56.0  4.82  4.80  2.96   \n",
            "4               5   0.31    2      2        6   60.4   59.0  4.35  4.43  2.65   \n",
            "...           ...    ...  ...    ...      ...    ...    ...   ...   ...   ...   \n",
            "26962       26963   1.11    3      3        2   62.3   58.0  6.61  6.52  4.09   \n",
            "26963       26964   0.33    2      4        1   61.9   55.0  4.44  4.42  2.74   \n",
            "26964       26965   0.51    3      1        5   61.7   58.0  5.12  5.15  3.17   \n",
            "26965       26966   0.27    4      2        7   61.8   56.0  4.19  4.20  2.60   \n",
            "26966       26967   1.25    3      6        2   62.0   58.0  6.90  6.88  4.27   \n",
            "\n",
            "       price  \n",
            "0        499  \n",
            "1        984  \n",
            "2       6289  \n",
            "3       1082  \n",
            "4        779  \n",
            "...      ...  \n",
            "26962   5408  \n",
            "26963   1114  \n",
            "26964   1656  \n",
            "26965    682  \n",
            "26966   5166  \n",
            "\n",
            "[25188 rows x 11 columns]\n"
          ]
        }
      ]
    },
    {
      "cell_type": "markdown",
      "source": [
        "# Standardizing data"
      ],
      "metadata": {
        "id": "Q4E_LJZseF-G"
      }
    },
    {
      "cell_type": "code",
      "source": [
        "import numpy as np\n",
        "import pandas as pd\n",
        "from sklearn.preprocessing import StandardScaler\n",
        "\n",
        "# Specify columns to standardize\n",
        "columns_to_standardize = ['carat','depth','table','x','y','z','price','cut','color','clarity']\n",
        "\n",
        "# Initialize the StandardScaler\n",
        "scaler = StandardScaler()\n",
        "\n",
        "# Apply StandardScaler only to specified columns\n",
        "df[columns_to_standardize] = scaler.fit_transform(df[columns_to_standardize])\n",
        "\n",
        "# Print the updated DataFrame\n",
        "print(\"\\nData after Standardizing Specified Columns:\")\n",
        "print(df)\n"
      ],
      "metadata": {
        "colab": {
          "base_uri": "https://localhost:8080/"
        },
        "id": "DZS3yiQPeJ_J",
        "outputId": "4e3b640b-e2fa-4bb7-f24a-4ab4205b80e6"
      },
      "execution_count": null,
      "outputs": [
        {
          "output_type": "stream",
          "name": "stdout",
          "text": [
            "\n",
            "Data after Standardizing Specified Columns:\n",
            "       Unnamed: 0     carat       cut     color   clarity     depth     table  \\\n",
            "0               1 -1.096471 -0.533716 -0.921470 -1.060865  0.251752  0.258864   \n",
            "1               2 -1.018692  0.441209  0.259730 -1.635870 -0.681524  0.258864   \n",
            "2               3  0.459102  1.416135 -0.921470  1.814161  0.323543  1.154930   \n",
            "3               4 -0.785356 -0.533716 -0.330870  0.089145 -0.107200 -0.637202   \n",
            "4               5 -1.070544 -0.533716 -0.330870  1.239156 -0.968687  0.706897   \n",
            "...           ...       ...       ...       ...       ...       ...       ...   \n",
            "26962       26963  1.003553  0.441209  0.259730 -1.060865  0.395333  0.258864   \n",
            "26963       26964 -1.018692 -0.533716  0.850330 -1.635870  0.108171 -1.085235   \n",
            "26964       26965 -0.552020  0.441209 -0.921470  0.664151 -0.035410  0.258864   \n",
            "26965       26966 -1.174249  1.416135 -0.330870  1.814161  0.036381 -0.637202   \n",
            "26966       26967  1.366520  0.441209  2.031529 -1.060865  0.179962  0.258864   \n",
            "\n",
            "              x         y         z     price  \n",
            "0     -1.308510 -1.301189 -1.216838 -0.953820  \n",
            "1     -1.158588 -1.129954 -1.154923 -0.779687  \n",
            "2      0.460571  0.542106  0.516777  1.125003  \n",
            "3     -0.758796 -0.787484 -0.752477 -0.744502  \n",
            "4     -1.228552 -1.160172 -1.232317 -0.853290  \n",
            "...         ...       ...       ...       ...  \n",
            "26962  1.030276  0.945012  0.996616  0.808691  \n",
            "26963 -1.138599 -1.170244 -1.093009 -0.733012  \n",
            "26964 -0.458951 -0.434941 -0.427424 -0.538415  \n",
            "26965 -1.388469 -1.391843 -1.309710 -0.888116  \n",
            "26966  1.320125  1.307627  1.275233  0.721804  \n",
            "\n",
            "[25188 rows x 11 columns]\n"
          ]
        },
        {
          "output_type": "stream",
          "name": "stderr",
          "text": [
            "<ipython-input-129-1de12c146451>:12: SettingWithCopyWarning: \n",
            "A value is trying to be set on a copy of a slice from a DataFrame.\n",
            "Try using .loc[row_indexer,col_indexer] = value instead\n",
            "\n",
            "See the caveats in the documentation: https://pandas.pydata.org/pandas-docs/stable/user_guide/indexing.html#returning-a-view-versus-a-copy\n",
            "  df[columns_to_standardize] = scaler.fit_transform(df[columns_to_standardize])\n"
          ]
        }
      ]
    },
    {
      "cell_type": "markdown",
      "source": [
        "# Linear Regression"
      ],
      "metadata": {
        "id": "cEIU_8Oz4QC0"
      }
    },
    {
      "cell_type": "code",
      "source": [
        "import numpy as np\n",
        "import pandas as pd\n",
        "from sklearn.preprocessing import StandardScaler\n",
        "from sklearn.model_selection import train_test_split\n",
        "from sklearn.linear_model import LinearRegression\n",
        "from sklearn.metrics import mean_squared_error, mean_absolute_error, r2_score\n",
        "import matplotlib.pyplot as plt\n",
        "\n",
        "\n",
        "# Split data into features (X) and target (y)\n",
        "X = df[['carat','cut','color','clarity','depth','table','x','y','z']]\n",
        "y = df['price']\n",
        "\n",
        "\n",
        "\n",
        "# Split into training and testing sets\n",
        "X_train, X_test, y_train, y_test = train_test_split(X, y, test_size=0.2, random_state=42)\n",
        "\n",
        "# Train a Linear Regression model\n",
        "model = LinearRegression()\n",
        "model.fit(X_train, y_train)\n",
        "\n",
        "# Predict on the test set\n",
        "y_pred = model.predict(X_test)\n",
        "\n",
        "# Evaluate the model's performance\n",
        "mse = mean_squared_error(y_test, y_pred)\n",
        "mae = mean_absolute_error(y_test, y_pred)\n",
        "r2 = r2_score(y_test, y_pred)\n",
        "\n",
        "print(\"Model Evaluation:\")\n",
        "print(f\"Mean Squared Error (MSE): {mse:.2f}\")\n",
        "print(f\"Mean Absolute Error (MAE): {mae:.2f}\")\n",
        "print(f\"R² Score: {r2:.2f}\")\n",
        "\n",
        "# Visualize actual vs. predicted values\n",
        "plt.figure(figsize=(8, 6))\n",
        "plt.scatter(y_test, y_pred, color='blue', label='Predicted vs Actual')\n",
        "plt.plot([min(y_test), max(y_test)], [min(y_test), max(y_test)], color='red', linestyle='--', label='Perfect Fit')\n",
        "plt.xlabel('Actual Values')\n",
        "plt.ylabel('Predicted Values')\n",
        "plt.title('Actual vs. Predicted Values')\n",
        "plt.legend()\n",
        "plt.show()\n"
      ],
      "metadata": {
        "colab": {
          "base_uri": "https://localhost:8080/",
          "height": 633
        },
        "id": "guYzhirj4O5e",
        "outputId": "605e224e-91b2-497e-ed45-30f4f98d9eff"
      },
      "execution_count": null,
      "outputs": [
        {
          "output_type": "stream",
          "name": "stdout",
          "text": [
            "Model Evaluation:\n",
            "Mean Squared Error (MSE): 0.12\n",
            "Mean Absolute Error (MAE): 0.23\n",
            "R² Score: 0.87\n"
          ]
        },
        {
          "output_type": "display_data",
          "data": {
            "text/plain": [
              "<Figure size 800x600 with 1 Axes>"
            ],
            "image/png": "[encoded data removed]"
          },
          "metadata": {}
        }
      ]
    },
    {
      "cell_type": "markdown",
      "source": [
        "Polynomial Regression"
      ],
      "metadata": {
        "id": "hsL_jt2KcIcf"
      }
    },
    {
      "cell_type": "code",
      "source": [
        "import numpy as np\n",
        "import pandas as pd\n",
        "from sklearn.preprocessing import StandardScaler, PolynomialFeatures\n",
        "from sklearn.model_selection import train_test_split\n",
        "from sklearn.linear_model import LinearRegression\n",
        "from sklearn.metrics import mean_squared_error, mean_absolute_error, r2_score\n",
        "import matplotlib.pyplot as plt\n",
        "\n",
        "# Split into training and testing sets\n",
        "X_train, X_test, y_train, y_test = train_test_split(X, y, test_size=0.2, random_state=42)\n",
        "\n",
        "# Initialize PolynomialFeatures with degree 2 (for quadratic, change degree as needed)\n",
        "poly = PolynomialFeatures(degree=2)\n",
        "\n",
        "# Transform the features to polynomial features\n",
        "X_train_poly = poly.fit_transform(X_train)\n",
        "X_test_poly = poly.transform(X_test)\n",
        "\n",
        "# Train a Linear Regression model on the polynomial features\n",
        "model = LinearRegression()\n",
        "model.fit(X_train_poly, y_train)\n",
        "\n",
        "# Predict on the test set\n",
        "y_pred = model.predict(X_test_poly)\n",
        "\n",
        "# Evaluate the model's performance\n",
        "mse = mean_squared_error(y_test, y_pred)\n",
        "mae = mean_absolute_error(y_test, y_pred)\n",
        "r2 = r2_score(y_test, y_pred)\n",
        "\n",
        "print(\"Polynomial Regression Model Evaluation:\")\n",
        "print(f\"Mean Squared Error (MSE): {mse:.2f}\")\n",
        "print(f\"Mean Absolute Error (MAE): {mae:.2f}\")\n",
        "print(f\"R² Score: {r2:.2f}\")\n",
        "\n",
        "# Visualize actual vs. predicted values (if needed)\n",
        "plt.figure(figsize=(8, 6))\n",
        "plt.scatter(y_test, y_pred, color='blue', label='Predicted vs Actual')\n",
        "plt.plot([min(y_test), max(y_test)], [min(y_test), max(y_test)], color='red', linestyle='--', label='Perfect Fit')\n",
        "plt.xlabel('Actual Values')\n",
        "plt.ylabel('Predicted Values')\n",
        "plt.title('Polynomial Regression: Actual vs. Predicted')\n",
        "plt.legend()\n",
        "plt.show()\n"
      ],
      "metadata": {
        "colab": {
          "base_uri": "https://localhost:8080/",
          "height": 633
        },
        "id": "V2m7GYuJcOn-",
        "outputId": "7755de8d-83a7-4f6d-e512-d61e7c67ebee"
      },
      "execution_count": null,
      "outputs": [
        {
          "output_type": "stream",
          "name": "stdout",
          "text": [
            "Polynomial Regression Model Evaluation:\n",
            "Mean Squared Error (MSE): 0.07\n",
            "Mean Absolute Error (MAE): 0.16\n",
            "R² Score: 0.93\n"
          ]
        },
        {
          "output_type": "display_data",
          "data": {
            "text/plain": [
              "<Figure size 800x600 with 1 Axes>"
            ],
            "image/png": "[encoded data removed]"
          },
          "metadata": {}
        }
      ]
    },
    {
      "cell_type": "code",
      "source": [
        "df.describe()"
      ],
      "metadata": {
        "colab": {
          "base_uri": "https://localhost:8080/",
          "height": 300
        },
        "id": "BNj27dLXnZvy",
        "outputId": "b41ee13f-d196-4674-c35c-14f42115927f"
      },
      "execution_count": null,
      "outputs": [
        {
          "output_type": "execute_result",
          "data": {
            "text/plain": [
              "         Unnamed: 0         carat           cut         color       clarity  \\\n",
              "count  25188.000000  2.518800e+04  2.518800e+04  2.518800e+04  2.518800e+04   \n",
              "mean   13479.219192 -3.596721e-17 -1.071964e-17 -2.552966e-17  2.418971e-17   \n",
              "std     7784.505196  1.000020e+00  1.000020e+00  1.000020e+00  1.000020e+00   \n",
              "min        1.000000 -1.355733e+00 -2.483567e+00 -1.512069e+00 -2.210876e+00   \n",
              "25%     6723.750000 -8.890608e-01 -5.337163e-01 -9.214697e-01 -1.060865e+00   \n",
              "50%    13486.500000 -1.890530e-01 -5.337163e-01  2.597298e-01  8.914545e-02   \n",
              "75%    20206.250000  7.442907e-01  4.412091e-01  8.503295e-01  6.641507e-01   \n",
              "max    26967.000000  5.929533e+00  1.416135e+00  2.031529e+00  1.814161e+00   \n",
              "\n",
              "              depth         table             x             y             z  \\\n",
              "count  2.518800e+04  2.518800e+04  2.518800e+04  2.518800e+04  2.518800e+04   \n",
              "mean  -1.104405e-15 -1.130745e-15 -5.943757e-16 -2.908407e-16 -2.060709e-16   \n",
              "std    1.000020e+00  1.000020e+00  1.000020e+00  1.000020e+00  1.000020e+00   \n",
              "min   -7.860577e+00 -3.773433e+00 -5.576295e+00 -5.622355e+00 -5.334173e+00   \n",
              "25%   -4.661529e-01 -6.372019e-01 -9.187128e-01 -9.184282e-01 -8.917854e-01   \n",
              "50%    3.638080e-02 -1.891689e-01 -1.917974e-02 -3.203509e-02 -5.593546e-02   \n",
              "75%    5.389145e-01  7.068971e-01  8.503689e-01  8.543581e-01  8.418293e-01   \n",
              "max    8.507663e+00  9.667557e+00  3.798838e+00  3.755281e+00  4.388810e+01   \n",
              "\n",
              "              price  \n",
              "count  2.518800e+04  \n",
              "mean  -4.499427e-17  \n",
              "std    1.000020e+00  \n",
              "min   -1.015933e+00  \n",
              "25%   -8.080511e-01  \n",
              "50%   -3.703853e-01  \n",
              "75%    5.444403e-01  \n",
              "max    3.168999e+00  "
            ],
            "text/html": [
              "\n",
              "  <div id=\"df-1274cd1d-b56e-45a4-b464-0317f8073e53\" class=\"colab-df-container\">\n",
              "    <div>\n",
              "<style scoped>\n",
              "    .dataframe tbody tr th:only-of-type {\n",
              "        vertical-align: middle;\n",
              "    }\n",
              "\n",
              "    .dataframe tbody tr th {\n",
              "        vertical-align: top;\n",
              "    }\n",
              "\n",
              "    .dataframe thead th {\n",
              "        text-align: right;\n",
              "    }\n",
              "</style>\n",
              "<table border=\"1\" class=\"dataframe\">\n",
              "  <thead>\n",
              "    <tr style=\"text-align: right;\">\n",
              "      <th></th>\n",
              "      <th>Unnamed: 0</th>\n",
              "      <th>carat</th>\n",
              "      <th>cut</th>\n",
              "      <th>color</th>\n",
              "      <th>clarity</th>\n",
              "      <th>depth</th>\n",
              "      <th>table</th>\n",
              "      <th>x</th>\n",
              "      <th>y</th>\n",
              "      <th>z</th>\n",
              "      <th>price</th>\n",
              "    </tr>\n",
              "  </thead>\n",
              "  <tbody>\n",
              "    <tr>\n",
              "      <th>count</th>\n",
              "      <td>25188.000000</td>\n",
              "      <td>2.518800e+04</td>\n",
              "      <td>2.518800e+04</td>\n",
              "      <td>2.518800e+04</td>\n",
              "      <td>2.518800e+04</td>\n",
              "      <td>2.518800e+04</td>\n",
              "      <td>2.518800e+04</td>\n",
              "      <td>2.518800e+04</td>\n",
              "      <td>2.518800e+04</td>\n",
              "      <td>2.518800e+04</td>\n",
              "      <td>2.518800e+04</td>\n",
              "    </tr>\n",
              "    <tr>\n",
              "      <th>mean</th>\n",
              "      <td>13479.219192</td>\n",
              "      <td>-3.596721e-17</td>\n",
              "      <td>-1.071964e-17</td>\n",
              "      <td>-2.552966e-17</td>\n",
              "      <td>2.418971e-17</td>\n",
              "      <td>-1.104405e-15</td>\n",
              "      <td>-1.130745e-15</td>\n",
              "      <td>-5.943757e-16</td>\n",
              "      <td>-2.908407e-16</td>\n",
              "      <td>-2.060709e-16</td>\n",
              "      <td>-4.499427e-17</td>\n",
              "    </tr>\n",
              "    <tr>\n",
              "      <th>std</th>\n",
              "      <td>7784.505196</td>\n",
              "      <td>1.000020e+00</td>\n",
              "      <td>1.000020e+00</td>\n",
              "      <td>1.000020e+00</td>\n",
              "      <td>1.000020e+00</td>\n",
              "      <td>1.000020e+00</td>\n",
              "      <td>1.000020e+00</td>\n",
              "      <td>1.000020e+00</td>\n",
              "      <td>1.000020e+00</td>\n",
              "      <td>1.000020e+00</td>\n",
              "      <td>1.000020e+00</td>\n",
              "    </tr>\n",
              "    <tr>\n",
              "      <th>min</th>\n",
              "      <td>1.000000</td>\n",
              "      <td>-1.355733e+00</td>\n",
              "      <td>-2.483567e+00</td>\n",
              "      <td>-1.512069e+00</td>\n",
              "      <td>-2.210876e+00</td>\n",
              "      <td>-7.860577e+00</td>\n",
              "      <td>-3.773433e+00</td>\n",
              "      <td>-5.576295e+00</td>\n",
              "      <td>-5.622355e+00</td>\n",
              "      <td>-5.334173e+00</td>\n",
              "      <td>-1.015933e+00</td>\n",
              "    </tr>\n",
              "    <tr>\n",
              "      <th>25%</th>\n",
              "      <td>6723.750000</td>\n",
              "      <td>-8.890608e-01</td>\n",
              "      <td>-5.337163e-01</td>\n",
              "      <td>-9.214697e-01</td>\n",
              "      <td>-1.060865e+00</td>\n",
              "      <td>-4.661529e-01</td>\n",
              "      <td>-6.372019e-01</td>\n",
              "      <td>-9.187128e-01</td>\n",
              "      <td>-9.184282e-01</td>\n",
              "      <td>-8.917854e-01</td>\n",
              "      <td>-8.080511e-01</td>\n",
              "    </tr>\n",
              "    <tr>\n",
              "      <th>50%</th>\n",
              "      <td>13486.500000</td>\n",
              "      <td>-1.890530e-01</td>\n",
              "      <td>-5.337163e-01</td>\n",
              "      <td>2.597298e-01</td>\n",
              "      <td>8.914545e-02</td>\n",
              "      <td>3.638080e-02</td>\n",
              "      <td>-1.891689e-01</td>\n",
              "      <td>-1.917974e-02</td>\n",
              "      <td>-3.203509e-02</td>\n",
              "      <td>-5.593546e-02</td>\n",
              "      <td>-3.703853e-01</td>\n",
              "    </tr>\n",
              "    <tr>\n",
              "      <th>75%</th>\n",
              "      <td>20206.250000</td>\n",
              "      <td>7.442907e-01</td>\n",
              "      <td>4.412091e-01</td>\n",
              "      <td>8.503295e-01</td>\n",
              "      <td>6.641507e-01</td>\n",
              "      <td>5.389145e-01</td>\n",
              "      <td>7.068971e-01</td>\n",
              "      <td>8.503689e-01</td>\n",
              "      <td>8.543581e-01</td>\n",
              "      <td>8.418293e-01</td>\n",
              "      <td>5.444403e-01</td>\n",
              "    </tr>\n",
              "    <tr>\n",
              "      <th>max</th>\n",
              "      <td>26967.000000</td>\n",
              "      <td>5.929533e+00</td>\n",
              "      <td>1.416135e+00</td>\n",
              "      <td>2.031529e+00</td>\n",
              "      <td>1.814161e+00</td>\n",
              "      <td>8.507663e+00</td>\n",
              "      <td>9.667557e+00</td>\n",
              "      <td>3.798838e+00</td>\n",
              "      <td>3.755281e+00</td>\n",
              "      <td>4.388810e+01</td>\n",
              "      <td>3.168999e+00</td>\n",
              "    </tr>\n",
              "  </tbody>\n",
              "</table>\n",
              "</div>\n",
              "    <div class=\"colab-df-buttons\">\n",
              "\n",
              "  <div class=\"colab-df-container\">\n",
              "    <button class=\"colab-df-convert\" onclick=\"convertToInteractive('df-1274cd1d-b56e-45a4-b464-0317f8073e53')\"\n",
              "            title=\"Convert this dataframe to an interactive table.\"\n",
              "            style=\"display:none;\">\n",
              "\n",
              "  <svg xmlns=\"http://www.w3.org/2000/svg\" height=\"24px\" viewBox=\"0 -960 960 960\">\n",
              "    <path d=\"M120-120v-720h720v720H120Zm60-500h600v-160H180v160Zm220 220h160v-160H400v160Zm0 220h160v-160H400v160ZM180-400h160v-160H180v160Zm440 0h160v-160H620v160ZM180-180h160v-160H180v160Zm440 0h160v-160H620v160Z\"/>\n",
              "  </svg>\n",
              "    </button>\n",
              "\n",
              "  <style>\n",
              "    .colab-df-container {\n",
              "      display:flex;\n",
              "      gap: 12px;\n",
              "    }\n",
              "\n",
              "    .colab-df-convert {\n",
              "      background-color: #E8F0FE;\n",
              "      border: none;\n",
              "      border-radius: 50%;\n",
              "      cursor: pointer;\n",
              "      display: none;\n",
              "      fill: #1967D2;\n",
              "      height: 32px;\n",
              "      padding: 0 0 0 0;\n",
              "      width: 32px;\n",
              "    }\n",
              "\n",
              "    .colab-df-convert:hover {\n",
              "      background-color: #E2EBFA;\n",
              "      box-shadow: 0px 1px 2px rgba(60, 64, 67, 0.3), 0px 1px 3px 1px rgba(60, 64, 67, 0.15);\n",
              "      fill: #174EA6;\n",
              "    }\n",
              "\n",
              "    .colab-df-buttons div {\n",
              "      margin-bottom: 4px;\n",
              "    }\n",
              "\n",
              "    [theme=dark] .colab-df-convert {\n",
              "      background-color: #3B4455;\n",
              "      fill: #D2E3FC;\n",
              "    }\n",
              "\n",
              "    [theme=dark] .colab-df-convert:hover {\n",
              "      background-color: #434B5C;\n",
              "      box-shadow: 0px 1px 3px 1px rgba(0, 0, 0, 0.15);\n",
              "      filter: drop-shadow(0px 1px 2px rgba(0, 0, 0, 0.3));\n",
              "      fill: #FFFFFF;\n",
              "    }\n",
              "  </style>\n",
              "\n",
              "    <script>\n",
              "      const buttonEl =\n",
              "        document.querySelector('#df-1274cd1d-b56e-45a4-b464-0317f8073e53 button.colab-df-convert');\n",
              "      buttonEl.style.display =\n",
              "        google.colab.kernel.accessAllowed ? 'block' : 'none';\n",
              "\n",
              "      async function convertToInteractive(key) {\n",
              "        const element = document.querySelector('#df-1274cd1d-b56e-45a4-b464-0317f8073e53');\n",
              "        const dataTable =\n",
              "          await google.colab.kernel.invokeFunction('convertToInteractive',\n",
              "                                                    [key], {});\n",
              "        if (!dataTable) return;\n",
              "\n",
              "        const docLinkHtml = 'Like what you see? Visit the ' +\n",
              "          '<a target=\"_blank\" href=https://colab.research.google.com/notebooks/data_table.ipynb>data table notebook</a>'\n",
              "          + ' to learn more about interactive tables.';\n",
              "        element.innerHTML = '';\n",
              "        dataTable['output_type'] = 'display_data';\n",
              "        await google.colab.output.renderOutput(dataTable, element);\n",
              "        const docLink = document.createElement('div');\n",
              "        docLink.innerHTML = docLinkHtml;\n",
              "        element.appendChild(docLink);\n",
              "      }\n",
              "    </script>\n",
              "  </div>\n",
              "\n",
              "\n",
              "<div id=\"df-902e309d-a823-4ce3-8404-adc3ac650173\">\n",
              "  <button class=\"colab-df-quickchart\" onclick=\"quickchart('df-902e309d-a823-4ce3-8404-adc3ac650173')\"\n",
              "            title=\"Suggest charts\"\n",
              "            style=\"display:none;\">\n",
              "\n",
              "<svg xmlns=\"http://www.w3.org/2000/svg\" height=\"24px\"viewBox=\"0 0 24 24\"\n",
              "     width=\"24px\">\n",
              "    <g>\n",
              "        <path d=\"M19 3H5c-1.1 0-2 .9-2 2v14c0 1.1.9 2 2 2h14c1.1 0 2-.9 2-2V5c0-1.1-.9-2-2-2zM9 17H7v-7h2v7zm4 0h-2V7h2v10zm4 0h-2v-4h2v4z\"/>\n",
              "    </g>\n",
              "</svg>\n",
              "  </button>\n",
              "\n",
              "<style>\n",
              "  .colab-df-quickchart {\n",
              "      --bg-color: #E8F0FE;\n",
              "      --fill-color: #1967D2;\n",
              "      --hover-bg-color: #E2EBFA;\n",
              "      --hover-fill-color: #174EA6;\n",
              "      --disabled-fill-color: #AAA;\n",
              "      --disabled-bg-color: #DDD;\n",
              "  }\n",
              "\n",
              "  [theme=dark] .colab-df-quickchart {\n",
              "      --bg-color: #3B4455;\n",
              "      --fill-color: #D2E3FC;\n",
              "      --hover-bg-color: #434B5C;\n",
              "      --hover-fill-color: #FFFFFF;\n",
              "      --disabled-bg-color: #3B4455;\n",
              "      --disabled-fill-color: #666;\n",
              "  }\n",
              "\n",
              "  .colab-df-quickchart {\n",
              "    background-color: var(--bg-color);\n",
              "    border: none;\n",
              "    border-radius: 50%;\n",
              "    cursor: pointer;\n",
              "    display: none;\n",
              "    fill: var(--fill-color);\n",
              "    height: 32px;\n",
              "    padding: 0;\n",
              "    width: 32px;\n",
              "  }\n",
              "\n",
              "  .colab-df-quickchart:hover {\n",
              "    background-color: var(--hover-bg-color);\n",
              "    box-shadow: 0 1px 2px rgba(60, 64, 67, 0.3), 0 1px 3px 1px rgba(60, 64, 67, 0.15);\n",
              "    fill: var(--button-hover-fill-color);\n",
              "  }\n",
              "\n",
              "  .colab-df-quickchart-complete:disabled,\n",
              "  .colab-df-quickchart-complete:disabled:hover {\n",
              "    background-color: var(--disabled-bg-color);\n",
              "    fill: var(--disabled-fill-color);\n",
              "    box-shadow: none;\n",
              "  }\n",
              "\n",
              "  .colab-df-spinner {\n",
              "    border: 2px solid var(--fill-color);\n",
              "    border-color: transparent;\n",
              "    border-bottom-color: var(--fill-color);\n",
              "    animation:\n",
              "      spin 1s steps(1) infinite;\n",
              "  }\n",
              "\n",
              "  @keyframes spin {\n",
              "    0% {\n",
              "      border-color: transparent;\n",
              "      border-bottom-color: var(--fill-color);\n",
              "      border-left-color: var(--fill-color);\n",
              "    }\n",
              "    20% {\n",
              "      border-color: transparent;\n",
              "      border-left-color: var(--fill-color);\n",
              "      border-top-color: var(--fill-color);\n",
              "    }\n",
              "    30% {\n",
              "      border-color: transparent;\n",
              "      border-left-color: var(--fill-color);\n",
              "      border-top-color: var(--fill-color);\n",
              "      border-right-color: var(--fill-color);\n",
              "    }\n",
              "    40% {\n",
              "      border-color: transparent;\n",
              "      border-right-color: var(--fill-color);\n",
              "      border-top-color: var(--fill-color);\n",
              "    }\n",
              "    60% {\n",
              "      border-color: transparent;\n",
              "      border-right-color: var(--fill-color);\n",
              "    }\n",
              "    80% {\n",
              "      border-color: transparent;\n",
              "      border-right-color: var(--fill-color);\n",
              "      border-bottom-color: var(--fill-color);\n",
              "    }\n",
              "    90% {\n",
              "      border-color: transparent;\n",
              "      border-bottom-color: var(--fill-color);\n",
              "    }\n",
              "  }\n",
              "</style>\n",
              "\n",
              "  <script>\n",
              "    async function quickchart(key) {\n",
              "      const quickchartButtonEl =\n",
              "        document.querySelector('#' + key + ' button');\n",
              "      quickchartButtonEl.disabled = true;  // To prevent multiple clicks.\n",
              "      quickchartButtonEl.classList.add('colab-df-spinner');\n",
              "      try {\n",
              "        const charts = await google.colab.kernel.invokeFunction(\n",
              "            'suggestCharts', [key], {});\n",
              "      } catch (error) {\n",
              "        console.error('Error during call to suggestCharts:', error);\n",
              "      }\n",
              "      quickchartButtonEl.classList.remove('colab-df-spinner');\n",
              "      quickchartButtonEl.classList.add('colab-df-quickchart-complete');\n",
              "    }\n",
              "    (() => {\n",
              "      let quickchartButtonEl =\n",
              "        document.querySelector('#df-902e309d-a823-4ce3-8404-adc3ac650173 button');\n",
              "      quickchartButtonEl.style.display =\n",
              "        google.colab.kernel.accessAllowed ? 'block' : 'none';\n",
              "    })();\n",
              "  </script>\n",
              "</div>\n",
              "\n",
              "    </div>\n",
              "  </div>\n"
            ],
            "application/vnd.google.colaboratory.intrinsic+json": {
              "type": "dataframe",
              "summary": "{\n  \"name\": \"df\",\n  \"rows\": 8,\n  \"fields\": [\n    {\n      \"column\": \"Unnamed: 0\",\n      \"properties\": {\n        \"dtype\": \"number\",\n        \"std\": 9407.395211686957,\n        \"min\": 1.0,\n        \"max\": 26967.0,\n        \"num_unique_values\": 8,\n        \"samples\": [\n          13479.219191678578,\n          13486.5,\n          25188.0\n        ],\n        \"semantic_type\": \"\",\n        \"description\": \"\"\n      }\n    },\n    {\n      \"column\": \"carat\",\n      \"properties\": {\n        \"dtype\": \"number\",\n        \"std\": 8905.038426813304,\n        \"min\": -1.3557326577056277,\n        \"max\": 25188.0,\n        \"num_unique_values\": 8,\n        \"samples\": [\n          -3.596720613364014e-17,\n          -0.1890530298761645,\n          25188.0\n        ],\n        \"semantic_type\": \"\",\n        \"description\": \"\"\n      }\n    },\n    {\n      \"column\": \"cut\",\n      \"properties\": {\n        \"dtype\": \"number\",\n        \"std\": 8905.337915349524,\n        \"min\": -2.4835672097613344,\n        \"max\": 25188.0,\n        \"num_unique_values\": 7,\n        \"samples\": [\n          25188.0,\n          -1.0719637906496668e-17,\n          0.44120911126111506\n        ],\n        \"semantic_type\": \"\",\n        \"description\": \"\"\n      }\n    },\n    {\n      \"column\": \"color\",\n      \"properties\": {\n        \"dtype\": \"number\",\n        \"std\": 8905.216601026208,\n        \"min\": -1.512069455784404,\n        \"max\": 25188.0,\n        \"num_unique_values\": 8,\n        \"samples\": [\n          -2.5529663961524958e-17,\n          0.25972976509566026,\n          25188.0\n        ],\n        \"semantic_type\": \"\",\n        \"description\": \"\"\n      }\n    },\n    {\n      \"column\": \"clarity\",\n      \"properties\": {\n        \"dtype\": \"number\",\n        \"std\": 8905.28795146529,\n        \"min\": -2.210875610998435,\n        \"max\": 25188.0,\n        \"num_unique_values\": 8,\n        \"samples\": [\n          2.4189709223212874e-17,\n          0.08914544860397222,\n          25188.0\n        ],\n        \"semantic_type\": \"\",\n        \"description\": \"\"\n      }\n    },\n    {\n      \"column\": \"depth\",\n      \"properties\": {\n        \"dtype\": \"number\",\n        \"std\": 8905.215183076945,\n        \"min\": -7.860577277962679,\n        \"max\": 25188.0,\n        \"num_unique_values\": 8,\n        \"samples\": [\n          -1.1044048001035383e-15,\n          0.036380802755839194,\n          25188.0\n        ],\n        \"semantic_type\": \"\",\n        \"description\": \"\"\n      }\n    },\n    {\n      \"column\": \"table\",\n      \"properties\": {\n        \"dtype\": \"number\",\n        \"std\": 8904.961456599834,\n        \"min\": -3.773432996294611,\n        \"max\": 25188.0,\n        \"num_unique_values\": 8,\n        \"samples\": [\n          -1.13074548930141e-15,\n          -0.1891689009997402,\n          25188.0\n        ],\n        \"semantic_type\": \"\",\n        \"description\": \"\"\n      }\n    },\n    {\n      \"column\": \"x\",\n      \"properties\": {\n        \"dtype\": \"number\",\n        \"std\": 8905.346874265755,\n        \"min\": -5.576295216476141,\n        \"max\": 25188.0,\n        \"num_unique_values\": 8,\n        \"samples\": [\n          -5.943757123418021e-16,\n          -0.019179737914500988,\n          25188.0\n        ],\n        \"semantic_type\": \"\",\n        \"description\": \"\"\n      }\n    },\n    {\n      \"column\": \"y\",\n      \"properties\": {\n        \"dtype\": \"number\",\n        \"std\": 8905.351835424537,\n        \"min\": -5.6223554475916035,\n        \"max\": 25188.0,\n        \"num_unique_values\": 8,\n        \"samples\": [\n          -2.908407021473175e-16,\n          -0.03203508773571158,\n          25188.0\n        ],\n        \"semantic_type\": \"\",\n        \"description\": \"\"\n      }\n    },\n    {\n      \"column\": \"z\",\n      \"properties\": {\n        \"dtype\": \"number\",\n        \"std\": 8903.324292430929,\n        \"min\": -5.33417310871557,\n        \"max\": 25188.0,\n        \"num_unique_values\": 8,\n        \"samples\": [\n          -2.0607093396567937e-16,\n          -0.05593546464183238,\n          25188.0\n        ],\n        \"semantic_type\": \"\",\n        \"description\": \"\"\n      }\n    },\n    {\n      \"column\": \"price\",\n      \"properties\": {\n        \"dtype\": \"number\",\n        \"std\": 8905.175667332685,\n        \"min\": -1.0159333799173065,\n        \"max\": 25188.0,\n        \"num_unique_values\": 8,\n        \"samples\": [\n          -4.4994269633847857e-17,\n          -0.3703853060428093,\n          25188.0\n        ],\n        \"semantic_type\": \"\",\n        \"description\": \"\"\n      }\n    }\n  ]\n}"
            }
          },
          "metadata": {},
          "execution_count": 132
        }
      ]
    },
    {
      "cell_type": "code",
      "source": [
        "df.head()"
      ],
      "metadata": {
        "colab": {
          "base_uri": "https://localhost:8080/",
          "height": 206
        },
        "id": "mrwGef71oAtY",
        "outputId": "aeb0fe9c-eb2f-4e20-9f14-246f9940fd0e"
      },
      "execution_count": null,
      "outputs": [
        {
          "output_type": "execute_result",
          "data": {
            "text/plain": [
              "   Unnamed: 0     carat       cut    color   clarity     depth     table  \\\n",
              "0           1 -1.096471 -0.533716 -0.92147 -1.060865  0.251752  0.258864   \n",
              "1           2 -1.018692  0.441209  0.25973 -1.635870 -0.681524  0.258864   \n",
              "2           3  0.459102  1.416135 -0.92147  1.814161  0.323543  1.154930   \n",
              "3           4 -0.785356 -0.533716 -0.33087  0.089145 -0.107200 -0.637202   \n",
              "4           5 -1.070544 -0.533716 -0.33087  1.239156 -0.968687  0.706897   \n",
              "\n",
              "          x         y         z     price  \n",
              "0 -1.308510 -1.301189 -1.216838 -0.953820  \n",
              "1 -1.158588 -1.129954 -1.154923 -0.779687  \n",
              "2  0.460571  0.542106  0.516777  1.125003  \n",
              "3 -0.758796 -0.787484 -0.752477 -0.744502  \n",
              "4 -1.228552 -1.160172 -1.232317 -0.853290  "
            ],
            "text/html": [
              "\n",
              "  <div id=\"df-170afe31-1124-41ee-932f-6245b9886dd6\" class=\"colab-df-container\">\n",
              "    <div>\n",
              "<style scoped>\n",
              "    .dataframe tbody tr th:only-of-type {\n",
              "        vertical-align: middle;\n",
              "    }\n",
              "\n",
              "    .dataframe tbody tr th {\n",
              "        vertical-align: top;\n",
              "    }\n",
              "\n",
              "    .dataframe thead th {\n",
              "        text-align: right;\n",
              "    }\n",
              "</style>\n",
              "<table border=\"1\" class=\"dataframe\">\n",
              "  <thead>\n",
              "    <tr style=\"text-align: right;\">\n",
              "      <th></th>\n",
              "      <th>Unnamed: 0</th>\n",
              "      <th>carat</th>\n",
              "      <th>cut</th>\n",
              "      <th>color</th>\n",
              "      <th>clarity</th>\n",
              "      <th>depth</th>\n",
              "      <th>table</th>\n",
              "      <th>x</th>\n",
              "      <th>y</th>\n",
              "      <th>z</th>\n",
              "      <th>price</th>\n",
              "    </tr>\n",
              "  </thead>\n",
              "  <tbody>\n",
              "    <tr>\n",
              "      <th>0</th>\n",
              "      <td>1</td>\n",
              "      <td>-1.096471</td>\n",
              "      <td>-0.533716</td>\n",
              "      <td>-0.92147</td>\n",
              "      <td>-1.060865</td>\n",
              "      <td>0.251752</td>\n",
              "      <td>0.258864</td>\n",
              "      <td>-1.308510</td>\n",
              "      <td>-1.301189</td>\n",
              "      <td>-1.216838</td>\n",
              "      <td>-0.953820</td>\n",
              "    </tr>\n",
              "    <tr>\n",
              "      <th>1</th>\n",
              "      <td>2</td>\n",
              "      <td>-1.018692</td>\n",
              "      <td>0.441209</td>\n",
              "      <td>0.25973</td>\n",
              "      <td>-1.635870</td>\n",
              "      <td>-0.681524</td>\n",
              "      <td>0.258864</td>\n",
              "      <td>-1.158588</td>\n",
              "      <td>-1.129954</td>\n",
              "      <td>-1.154923</td>\n",
              "      <td>-0.779687</td>\n",
              "    </tr>\n",
              "    <tr>\n",
              "      <th>2</th>\n",
              "      <td>3</td>\n",
              "      <td>0.459102</td>\n",
              "      <td>1.416135</td>\n",
              "      <td>-0.92147</td>\n",
              "      <td>1.814161</td>\n",
              "      <td>0.323543</td>\n",
              "      <td>1.154930</td>\n",
              "      <td>0.460571</td>\n",
              "      <td>0.542106</td>\n",
              "      <td>0.516777</td>\n",
              "      <td>1.125003</td>\n",
              "    </tr>\n",
              "    <tr>\n",
              "      <th>3</th>\n",
              "      <td>4</td>\n",
              "      <td>-0.785356</td>\n",
              "      <td>-0.533716</td>\n",
              "      <td>-0.33087</td>\n",
              "      <td>0.089145</td>\n",
              "      <td>-0.107200</td>\n",
              "      <td>-0.637202</td>\n",
              "      <td>-0.758796</td>\n",
              "      <td>-0.787484</td>\n",
              "      <td>-0.752477</td>\n",
              "      <td>-0.744502</td>\n",
              "    </tr>\n",
              "    <tr>\n",
              "      <th>4</th>\n",
              "      <td>5</td>\n",
              "      <td>-1.070544</td>\n",
              "      <td>-0.533716</td>\n",
              "      <td>-0.33087</td>\n",
              "      <td>1.239156</td>\n",
              "      <td>-0.968687</td>\n",
              "      <td>0.706897</td>\n",
              "      <td>-1.228552</td>\n",
              "      <td>-1.160172</td>\n",
              "      <td>-1.232317</td>\n",
              "      <td>-0.853290</td>\n",
              "    </tr>\n",
              "  </tbody>\n",
              "</table>\n",
              "</div>\n",
              "    <div class=\"colab-df-buttons\">\n",
              "\n",
              "  <div class=\"colab-df-container\">\n",
              "    <button class=\"colab-df-convert\" onclick=\"convertToInteractive('df-170afe31-1124-41ee-932f-6245b9886dd6')\"\n",
              "            title=\"Convert this dataframe to an interactive table.\"\n",
              "            style=\"display:none;\">\n",
              "\n",
              "  <svg xmlns=\"http://www.w3.org/2000/svg\" height=\"24px\" viewBox=\"0 -960 960 960\">\n",
              "    <path d=\"M120-120v-720h720v720H120Zm60-500h600v-160H180v160Zm220 220h160v-160H400v160Zm0 220h160v-160H400v160ZM180-400h160v-160H180v160Zm440 0h160v-160H620v160ZM180-180h160v-160H180v160Zm440 0h160v-160H620v160Z\"/>\n",
              "  </svg>\n",
              "    </button>\n",
              "\n",
              "  <style>\n",
              "    .colab-df-container {\n",
              "      display:flex;\n",
              "      gap: 12px;\n",
              "    }\n",
              "\n",
              "    .colab-df-convert {\n",
              "      background-color: #E8F0FE;\n",
              "      border: none;\n",
              "      border-radius: 50%;\n",
              "      cursor: pointer;\n",
              "      display: none;\n",
              "      fill: #1967D2;\n",
              "      height: 32px;\n",
              "      padding: 0 0 0 0;\n",
              "      width: 32px;\n",
              "    }\n",
              "\n",
              "    .colab-df-convert:hover {\n",
              "      background-color: #E2EBFA;\n",
              "      box-shadow: 0px 1px 2px rgba(60, 64, 67, 0.3), 0px 1px 3px 1px rgba(60, 64, 67, 0.15);\n",
              "      fill: #174EA6;\n",
              "    }\n",
              "\n",
              "    .colab-df-buttons div {\n",
              "      margin-bottom: 4px;\n",
              "    }\n",
              "\n",
              "    [theme=dark] .colab-df-convert {\n",
              "      background-color: #3B4455;\n",
              "      fill: #D2E3FC;\n",
              "    }\n",
              "\n",
              "    [theme=dark] .colab-df-convert:hover {\n",
              "      background-color: #434B5C;\n",
              "      box-shadow: 0px 1px 3px 1px rgba(0, 0, 0, 0.15);\n",
              "      filter: drop-shadow(0px 1px 2px rgba(0, 0, 0, 0.3));\n",
              "      fill: #FFFFFF;\n",
              "    }\n",
              "  </style>\n",
              "\n",
              "    <script>\n",
              "      const buttonEl =\n",
              "        document.querySelector('#df-170afe31-1124-41ee-932f-6245b9886dd6 button.colab-df-convert');\n",
              "      buttonEl.style.display =\n",
              "        google.colab.kernel.accessAllowed ? 'block' : 'none';\n",
              "\n",
              "      async function convertToInteractive(key) {\n",
              "        const element = document.querySelector('#df-170afe31-1124-41ee-932f-6245b9886dd6');\n",
              "        const dataTable =\n",
              "          await google.colab.kernel.invokeFunction('convertToInteractive',\n",
              "                                                    [key], {});\n",
              "        if (!dataTable) return;\n",
              "\n",
              "        const docLinkHtml = 'Like what you see? Visit the ' +\n",
              "          '<a target=\"_blank\" href=https://colab.research.google.com/notebooks/data_table.ipynb>data table notebook</a>'\n",
              "          + ' to learn more about interactive tables.';\n",
              "        element.innerHTML = '';\n",
              "        dataTable['output_type'] = 'display_data';\n",
              "        await google.colab.output.renderOutput(dataTable, element);\n",
              "        const docLink = document.createElement('div');\n",
              "        docLink.innerHTML = docLinkHtml;\n",
              "        element.appendChild(docLink);\n",
              "      }\n",
              "    </script>\n",
              "  </div>\n",
              "\n",
              "\n",
              "<div id=\"df-a67af3f4-0e44-4c78-83e5-86f7828fdc83\">\n",
              "  <button class=\"colab-df-quickchart\" onclick=\"quickchart('df-a67af3f4-0e44-4c78-83e5-86f7828fdc83')\"\n",
              "            title=\"Suggest charts\"\n",
              "            style=\"display:none;\">\n",
              "\n",
              "<svg xmlns=\"http://www.w3.org/2000/svg\" height=\"24px\"viewBox=\"0 0 24 24\"\n",
              "     width=\"24px\">\n",
              "    <g>\n",
              "        <path d=\"M19 3H5c-1.1 0-2 .9-2 2v14c0 1.1.9 2 2 2h14c1.1 0 2-.9 2-2V5c0-1.1-.9-2-2-2zM9 17H7v-7h2v7zm4 0h-2V7h2v10zm4 0h-2v-4h2v4z\"/>\n",
              "    </g>\n",
              "</svg>\n",
              "  </button>\n",
              "\n",
              "<style>\n",
              "  .colab-df-quickchart {\n",
              "      --bg-color: #E8F0FE;\n",
              "      --fill-color: #1967D2;\n",
              "      --hover-bg-color: #E2EBFA;\n",
              "      --hover-fill-color: #174EA6;\n",
              "      --disabled-fill-color: #AAA;\n",
              "      --disabled-bg-color: #DDD;\n",
              "  }\n",
              "\n",
              "  [theme=dark] .colab-df-quickchart {\n",
              "      --bg-color: #3B4455;\n",
              "      --fill-color: #D2E3FC;\n",
              "      --hover-bg-color: #434B5C;\n",
              "      --hover-fill-color: #FFFFFF;\n",
              "      --disabled-bg-color: #3B4455;\n",
              "      --disabled-fill-color: #666;\n",
              "  }\n",
              "\n",
              "  .colab-df-quickchart {\n",
              "    background-color: var(--bg-color);\n",
              "    border: none;\n",
              "    border-radius: 50%;\n",
              "    cursor: pointer;\n",
              "    display: none;\n",
              "    fill: var(--fill-color);\n",
              "    height: 32px;\n",
              "    padding: 0;\n",
              "    width: 32px;\n",
              "  }\n",
              "\n",
              "  .colab-df-quickchart:hover {\n",
              "    background-color: var(--hover-bg-color);\n",
              "    box-shadow: 0 1px 2px rgba(60, 64, 67, 0.3), 0 1px 3px 1px rgba(60, 64, 67, 0.15);\n",
              "    fill: var(--button-hover-fill-color);\n",
              "  }\n",
              "\n",
              "  .colab-df-quickchart-complete:disabled,\n",
              "  .colab-df-quickchart-complete:disabled:hover {\n",
              "    background-color: var(--disabled-bg-color);\n",
              "    fill: var(--disabled-fill-color);\n",
              "    box-shadow: none;\n",
              "  }\n",
              "\n",
              "  .colab-df-spinner {\n",
              "    border: 2px solid var(--fill-color);\n",
              "    border-color: transparent;\n",
              "    border-bottom-color: var(--fill-color);\n",
              "    animation:\n",
              "      spin 1s steps(1) infinite;\n",
              "  }\n",
              "\n",
              "  @keyframes spin {\n",
              "    0% {\n",
              "      border-color: transparent;\n",
              "      border-bottom-color: var(--fill-color);\n",
              "      border-left-color: var(--fill-color);\n",
              "    }\n",
              "    20% {\n",
              "      border-color: transparent;\n",
              "      border-left-color: var(--fill-color);\n",
              "      border-top-color: var(--fill-color);\n",
              "    }\n",
              "    30% {\n",
              "      border-color: transparent;\n",
              "      border-left-color: var(--fill-color);\n",
              "      border-top-color: var(--fill-color);\n",
              "      border-right-color: var(--fill-color);\n",
              "    }\n",
              "    40% {\n",
              "      border-color: transparent;\n",
              "      border-right-color: var(--fill-color);\n",
              "      border-top-color: var(--fill-color);\n",
              "    }\n",
              "    60% {\n",
              "      border-color: transparent;\n",
              "      border-right-color: var(--fill-color);\n",
              "    }\n",
              "    80% {\n",
              "      border-color: transparent;\n",
              "      border-right-color: var(--fill-color);\n",
              "      border-bottom-color: var(--fill-color);\n",
              "    }\n",
              "    90% {\n",
              "      border-color: transparent;\n",
              "      border-bottom-color: var(--fill-color);\n",
              "    }\n",
              "  }\n",
              "</style>\n",
              "\n",
              "  <script>\n",
              "    async function quickchart(key) {\n",
              "      const quickchartButtonEl =\n",
              "        document.querySelector('#' + key + ' button');\n",
              "      quickchartButtonEl.disabled = true;  // To prevent multiple clicks.\n",
              "      quickchartButtonEl.classList.add('colab-df-spinner');\n",
              "      try {\n",
              "        const charts = await google.colab.kernel.invokeFunction(\n",
              "            'suggestCharts', [key], {});\n",
              "      } catch (error) {\n",
              "        console.error('Error during call to suggestCharts:', error);\n",
              "      }\n",
              "      quickchartButtonEl.classList.remove('colab-df-spinner');\n",
              "      quickchartButtonEl.classList.add('colab-df-quickchart-complete');\n",
              "    }\n",
              "    (() => {\n",
              "      let quickchartButtonEl =\n",
              "        document.querySelector('#df-a67af3f4-0e44-4c78-83e5-86f7828fdc83 button');\n",
              "      quickchartButtonEl.style.display =\n",
              "        google.colab.kernel.accessAllowed ? 'block' : 'none';\n",
              "    })();\n",
              "  </script>\n",
              "</div>\n",
              "\n",
              "    </div>\n",
              "  </div>\n"
            ],
            "application/vnd.google.colaboratory.intrinsic+json": {
              "type": "dataframe",
              "variable_name": "df",
              "summary": "{\n  \"name\": \"df\",\n  \"rows\": 25188,\n  \"fields\": [\n    {\n      \"column\": \"Unnamed: 0\",\n      \"properties\": {\n        \"dtype\": \"number\",\n        \"std\": 7784,\n        \"min\": 1,\n        \"max\": 26967,\n        \"num_unique_values\": 25188,\n        \"samples\": [\n          2839,\n          17307,\n          23491\n        ],\n        \"semantic_type\": \"\",\n        \"description\": \"\"\n      }\n    },\n    {\n      \"column\": \"carat\",\n      \"properties\": {\n        \"dtype\": \"number\",\n        \"std\": 1.0000198513136636,\n        \"min\": -1.3557326577056277,\n        \"max\": 5.929533462740574,\n        \"num_unique_values\": 210,\n        \"samples\": [\n          1.0813314537603615,\n          2.71468293272161,\n          -0.6816510949597155\n        ],\n        \"semantic_type\": \"\",\n        \"description\": \"\"\n      }\n    },\n    {\n      \"column\": \"cut\",\n      \"properties\": {\n        \"dtype\": \"number\",\n        \"std\": 1.0000198513137304,\n        \"min\": -2.4835672097613344,\n        \"max\": 1.4161345516019315,\n        \"num_unique_values\": 5,\n        \"samples\": [\n          0.44120911126111506,\n          -2.4835672097613344,\n          1.4161345516019315\n        ],\n        \"semantic_type\": \"\",\n        \"description\": \"\"\n      }\n    },\n    {\n      \"column\": \"color\",\n      \"properties\": {\n        \"dtype\": \"number\",\n        \"std\": 1.0000198513135452,\n        \"min\": -1.512069455784404,\n        \"max\": 2.031528985975725,\n        \"num_unique_values\": 7,\n        \"samples\": [\n          -0.9214697154910494,\n          0.25972976509566026,\n          2.031528985975725\n        ],\n        \"semantic_type\": \"\",\n        \"description\": \"\"\n      }\n    },\n    {\n      \"column\": \"clarity\",\n      \"properties\": {\n        \"dtype\": \"number\",\n        \"std\": 1.0000198513136709,\n        \"min\": -2.210875610998435,\n        \"max\": 1.8141612433057779,\n        \"num_unique_values\": 8,\n        \"samples\": [\n          -1.6358703460978334,\n          0.6641507135045741,\n          -1.0608650811972316\n        ],\n        \"semantic_type\": \"\",\n        \"description\": \"\"\n      }\n    },\n    {\n      \"column\": \"depth\",\n      \"properties\": {\n        \"dtype\": \"number\",\n        \"std\": 1.0000198513136411,\n        \"min\": -7.860577277962679,\n        \"max\": 8.50766310752661,\n        \"num_unique_values\": 170,\n        \"samples\": [\n          -3.409564541557694,\n          0.6107050268080981,\n          6.6411093793567835\n        ],\n        \"semantic_type\": \"\",\n        \"description\": \"\"\n      }\n    },\n    {\n      \"column\": \"table\",\n      \"properties\": {\n        \"dtype\": \"number\",\n        \"std\": 1.000019851313604,\n        \"min\": -3.773432996294611,\n        \"max\": 9.667557361061155,\n        \"num_unique_values\": 109,\n        \"samples\": [\n          3.0366687847656446,\n          1.6029631466476952,\n          2.050996158559554\n        ],\n        \"semantic_type\": \"\",\n        \"description\": \"\"\n      }\n    },\n    {\n      \"column\": \"x\",\n      \"properties\": {\n        \"dtype\": \"number\",\n        \"std\": 1.0000198513136702,\n        \"min\": -5.576295216476141,\n        \"max\": 3.798838450593678,\n        \"num_unique_values\": 480,\n        \"samples\": [\n          1.2801458236196963,\n          1.999772288469405,\n          -1.6983081558971547\n        ],\n        \"semantic_type\": \"\",\n        \"description\": \"\"\n      }\n    },\n    {\n      \"column\": \"y\",\n      \"properties\": {\n        \"dtype\": \"number\",\n        \"std\": 1.0000198513136687,\n        \"min\": -5.6223554475916035,\n        \"max\": 3.755281047950443,\n        \"num_unique_values\": 471,\n        \"samples\": [\n          -0.4853043061024057,\n          0.5924691686806224,\n          0.8543580504036009\n        ],\n        \"semantic_type\": \"\",\n        \"description\": \"\"\n      }\n    },\n    {\n      \"column\": \"z\",\n      \"properties\": {\n        \"dtype\": \"number\",\n        \"std\": 1.00001985131366,\n        \"min\": -5.33417310871557,\n        \"max\": 43.88810169525652,\n        \"num_unique_values\": 319,\n        \"samples\": [\n          -0.7369983864577984,\n          -0.5822113587723521,\n          1.213318162378832\n        ],\n        \"semantic_type\": \"\",\n        \"description\": \"\"\n      }\n    },\n    {\n      \"column\": \"price\",\n      \"properties\": {\n        \"dtype\": \"number\",\n        \"std\": 1.0000198513136644,\n        \"min\": -1.0159333799173065,\n        \"max\": 3.1689989610621927,\n        \"num_unique_values\": 7281,\n        \"samples\": [\n          2.47103152190089,\n          1.3766875123516866,\n          1.9001630917226637\n        ],\n        \"semantic_type\": \"\",\n        \"description\": \"\"\n      }\n    }\n  ]\n}"
            }
          },
          "metadata": {},
          "execution_count": 133
        }
      ]
    },
    {
      "cell_type": "code",
      "source": [
        "df = df.drop('Unnamed: 0', axis=1)\n"
      ],
      "metadata": {
        "id": "RO1-2Ug6ofwn"
      },
      "execution_count": null,
      "outputs": []
    },
    {
      "cell_type": "markdown",
      "source": [
        "Ridge Regression\n"
      ],
      "metadata": {
        "id": "WB4rDg_T2dLF"
      }
    },
    {
      "cell_type": "code",
      "source": [
        "import numpy as np\n",
        "import pandas as pd\n",
        "from sklearn.preprocessing import StandardScaler\n",
        "from sklearn.model_selection import train_test_split, GridSearchCV\n",
        "from sklearn.linear_model import Ridge, LinearRegression\n",
        "from sklearn.metrics import mean_squared_error, mean_absolute_error, r2_score\n",
        "import matplotlib.pyplot as plt\n",
        "\n",
        "# 3. Train-Test Split\n",
        "X_train, X_test, y_train, y_test = train_test_split(X, y, test_size=0.2, random_state=42)\n",
        "\n",
        "# 4. Ridge Regression\n",
        "# Default Ridge Regression\n",
        "ridge = Ridge(alpha=1.0)\n",
        "ridge.fit(X_train, y_train)\n",
        "y_pred_ridge = ridge.predict(X_test)\n",
        "\n",
        "# Evaluate Ridge Regression\n",
        "mse_ridge = mean_squared_error(y_test, y_pred_ridge)\n",
        "mae_ridge = mean_absolute_error(y_test, y_pred_ridge)\n",
        "r2_ridge = r2_score(y_test, y_pred_ridge)\n",
        "\n",
        "print(\"Ridge Regression Performance:\")\n",
        "print(f\"Mean Squared Error (MSE): {mse_ridge:.2f}\")\n",
        "print(f\"Mean Absolute Error (MAE): {mae_ridge:.2f}\")\n",
        "print(f\"R² Score: {r2_ridge:.2f}\")\n",
        "\n",
        "# 5. Cross-Validation for Optimal Alpha\n",
        "param_grid = {'alpha': np.logspace(-4, 4, 50)}  # Test various alpha values\n",
        "ridge_cv = GridSearchCV(Ridge(), param_grid, scoring='r2', cv=5)  # 5-fold CV\n",
        "ridge_cv.fit(X_train, y_train)\n",
        "\n",
        "# Best Alpha and Model\n",
        "best_alpha = ridge_cv.best_params_['alpha']\n",
        "best_ridge = ridge_cv.best_estimator_\n",
        "y_pred_ridge_cv = best_ridge.predict(X_test)\n",
        "\n",
        "print(f\"\\nOptimal Alpha: {best_alpha}\")\n",
        "print(f\"Best Cross-Validation R² Score: {ridge_cv.best_score_:.2f}\")\n",
        "\n",
        "# Evaluate Best Ridge Model\n",
        "mse_ridge_cv = mean_squared_error(y_test, y_pred_ridge_cv)\n",
        "mae_ridge_cv = mean_absolute_error(y_test, y_pred_ridge_cv)\n",
        "r2_ridge_cv = r2_score(y_test, y_pred_ridge_cv)\n",
        "\n",
        "print(\"\\nBest Ridge Regression Performance:\")\n",
        "print(f\"Mean Squared Error (MSE): {mse_ridge_cv:.2f}\")\n",
        "print(f\"Mean Absolute Error (MAE): {mae_ridge_cv:.2f}\")\n",
        "print(f\"R² Score: {r2_ridge_cv:.2f}\")\n",
        "\n",
        "# 7. Visualize Ridge Regression Predictions\n",
        "plt.figure(figsize=(8, 6))\n",
        "plt.scatter(y_test, y_pred_ridge_cv, color='blue', label='Predicted vs Actual (Ridge)')\n",
        "plt.plot([min(y_test), max(y_test)], [min(y_test), max(y_test)], color='red', linestyle='--', label='Perfect Fit')\n",
        "plt.xlabel('Actual Prices')\n",
        "plt.ylabel('Predicted Prices')\n",
        "plt.title('Ridge Regression: Actual vs Predicted')\n",
        "plt.legend()\n",
        "plt.show()\n"
      ],
      "metadata": {
        "colab": {
          "base_uri": "https://localhost:8080/",
          "height": 772
        },
        "id": "z7OZKSfJ2e4J",
        "outputId": "e2901b4e-8bf2-4ede-a57e-8235c61de95d"
      },
      "execution_count": null,
      "outputs": [
        {
          "output_type": "stream",
          "name": "stdout",
          "text": [
            "Ridge Regression Performance:\n",
            "Mean Squared Error (MSE): 0.12\n",
            "Mean Absolute Error (MAE): 0.23\n",
            "R² Score: 0.87\n",
            "\n",
            "Optimal Alpha: 3.727593720314938\n",
            "Best Cross-Validation R² Score: 0.88\n",
            "\n",
            "Best Ridge Regression Performance:\n",
            "Mean Squared Error (MSE): 0.12\n",
            "Mean Absolute Error (MAE): 0.23\n",
            "R² Score: 0.87\n"
          ]
        },
        {
          "output_type": "display_data",
          "data": {
            "text/plain": [
              "<Figure size 800x600 with 1 Axes>"
            ],
            "image/png": "[encoded data removed]"
          },
          "metadata": {}
        }
      ]
    },
    {
      "cell_type": "markdown",
      "source": [
        "Lasso\n"
      ],
      "metadata": {
        "id": "a-0XGzZC818w"
      }
    },
    {
      "cell_type": "code",
      "source": [
        "import numpy as np\n",
        "import pandas as pd\n",
        "from sklearn.model_selection import train_test_split, GridSearchCV\n",
        "from sklearn.linear_model import Lasso, LinearRegression, Ridge\n",
        "from sklearn.metrics import mean_squared_error, mean_absolute_error, r2_score\n",
        "from sklearn.preprocessing import StandardScaler\n",
        "import matplotlib.pyplot as plt\n",
        "\n",
        "\n",
        "# 1. Train Lasso Regression Model with Cross-Validation\n",
        "param_grid = {'alpha': np.logspace(-4, 1, 50)}  # Test various alpha values\n",
        "lasso_cv = GridSearchCV(Lasso(max_iter=10000), param_grid, scoring='r2', cv=5)  # 5-fold cross-validation\n",
        "lasso_cv.fit(X_train, y_train)\n",
        "\n",
        "# Best Lasso Model\n",
        "best_alpha = lasso_cv.best_params_['alpha']\n",
        "lasso_best = lasso_cv.best_estimator_\n",
        "y_pred_lasso = lasso_best.predict(X_test)\n",
        "\n",
        "# Evaluate Lasso Regression Performance\n",
        "mse_lasso = mean_squared_error(y_test, y_pred_lasso)\n",
        "mae_lasso = mean_absolute_error(y_test, y_pred_lasso)\n",
        "r2_lasso = r2_score(y_test, y_pred_lasso)\n",
        "\n",
        "print(\"Lasso Regression Performance:\")\n",
        "print(f\"Optimal Alpha: {best_alpha}\")\n",
        "print(f\"Mean Squared Error (MSE): {mse_lasso:.2f}\")\n",
        "print(f\"Mean Absolute Error (MAE): {mae_lasso:.2f}\")\n",
        "print(f\"R² Score: {r2_lasso:.2f}\")\n",
        "\n",
        "# 2. Investigate Feature Selection\n",
        "coefficients = pd.Series(lasso_best.coef_, index=X.columns)\n",
        "print(\"\\nFeature Coefficients from Lasso Regression:\")\n",
        "print(coefficients)\n",
        "\n",
        "selected_features = coefficients[coefficients != 0].index\n",
        "print(\"\\nSelected Features:\")\n",
        "print(selected_features)\n",
        "\n",
        "# 3. Compare with Linear and Ridge Regression\n",
        "# Linear Regression\n",
        "linear_model = LinearRegression()\n",
        "linear_model.fit(X_train, y_train)\n",
        "y_pred_linear = linear_model.predict(X_test)\n",
        "r2_linear = r2_score(y_test, y_pred_linear)\n",
        "\n",
        "# Ridge Regression\n",
        "ridge_model = Ridge(alpha=best_alpha)\n",
        "ridge_model.fit(X_train, y_train)\n",
        "y_pred_ridge = ridge_model.predict(X_test)\n",
        "r2_ridge = r2_score(y_test, y_pred_ridge)\n",
        "\n",
        "print(\"\\nModel Comparison:\")\n",
        "print(f\"Linear Regression R²: {r2_linear:.2f}\")\n",
        "print(f\"Ridge Regression R²: {r2_ridge:.2f}\")\n",
        "print(f\"Lasso Regression R²: {r2_lasso:.2f}\")\n",
        "\n",
        "# 4. Visualize Feature Coefficients\n",
        "plt.figure(figsize=(10, 6))\n",
        "coefficients.plot(kind='bar', color='blue')\n",
        "plt.title('Feature Coefficients (Lasso Regression)')\n",
        "plt.xlabel('Features')\n",
        "plt.ylabel('Coefficient Value')\n",
        "plt.show()\n"
      ],
      "metadata": {
        "colab": {
          "base_uri": "https://localhost:8080/",
          "height": 1000
        },
        "id": "4VgW2Le983Rn",
        "outputId": "65339379-972f-40cc-fde3-8b9c9215b5e0"
      },
      "execution_count": null,
      "outputs": [
        {
          "output_type": "stream",
          "name": "stdout",
          "text": [
            "Lasso Regression Performance:\n",
            "Optimal Alpha: 0.0002559547922699536\n",
            "Mean Squared Error (MSE): 0.12\n",
            "Mean Absolute Error (MAE): 0.23\n",
            "R² Score: 0.87\n",
            "\n",
            "Feature Coefficients from Lasso Regression:\n",
            "carat      1.182187\n",
            "cut        0.017791\n",
            "color     -0.116360\n",
            "clarity    0.144658\n",
            "depth     -0.045349\n",
            "table     -0.053731\n",
            "x         -0.540016\n",
            "y          0.353267\n",
            "z         -0.001609\n",
            "dtype: float64\n",
            "\n",
            "Selected Features:\n",
            "Index(['carat', 'cut', 'color', 'clarity', 'depth', 'table', 'x', 'y', 'z'], dtype='object')\n",
            "\n",
            "Model Comparison:\n",
            "Linear Regression R²: 0.87\n",
            "Ridge Regression R²: 0.87\n",
            "Lasso Regression R²: 0.87\n"
          ]
        },
        {
          "output_type": "display_data",
          "data": {
            "text/plain": [
              "<Figure size 1000x600 with 1 Axes>"
            ],
            "image/png": "[encoded data removed]"
          },
          "metadata": {}
        }
      ]
    },
    {
      "cell_type": "markdown",
      "source": [
        "Gradient Boost\n"
      ],
      "metadata": {
        "id": "TQFk9JNBFv56"
      }
    },
    {
      "cell_type": "code",
      "source": [
        "from sklearn.ensemble import GradientBoostingRegressor\n",
        "from sklearn.model_selection import train_test_split, GridSearchCV\n",
        "from sklearn.metrics import mean_squared_error, mean_absolute_error, r2_score\n",
        "from sklearn.preprocessing import StandardScaler\n",
        "\n",
        "# 1. Implement Gradient Boosting Regressor\n",
        "gb_regressor = GradientBoostingRegressor()\n",
        "\n",
        "# 2. Hyperparameter tuning using smaller GridSearchCV\n",
        "param_grid = {\n",
        "    'n_estimators': [100],  # Use fewer estimators\n",
        "    'learning_rate': [0.1],  # Choose one learning rate for faster testing\n",
        "    'max_depth': [3],  # Try just one depth\n",
        "}\n",
        "\n",
        "grid_search = GridSearchCV(gb_regressor, param_grid, cv=3, scoring='r2')  # Reduce folds to 3 for faster results\n",
        "grid_search.fit(X_train, y_train)\n",
        "\n",
        "# Best model from grid search\n",
        "best_gb_model = grid_search.best_estimator_\n",
        "\n",
        "# 3. Predictions and evaluation\n",
        "y_pred_gb = best_gb_model.predict(X_test)\n",
        "\n",
        "# Evaluate Gradient Boosting Model\n",
        "mse_gb = mean_squared_error(y_test, y_pred_gb)\n",
        "mae_gb = mean_absolute_error(y_test, y_pred_gb)\n",
        "r2_gb = r2_score(y_test, y_pred_gb)\n",
        "rmse_gb = np.sqrt(mse_gb)\n",
        "\n",
        "print(\"Gradient Boosting Performance:\")\n",
        "print(f\"Optimal Parameters: {grid_search.best_params_}\")\n",
        "print(f\"MSE: {mse_gb:.2f}, RMSE: {rmse_gb:.2f}, MAE: {mae_gb:.2f}, R²: {r2_gb:.2f}\")\n"
      ],
      "metadata": {
        "colab": {
          "base_uri": "https://localhost:8080/"
        },
        "id": "9m-shj2BFtY5",
        "outputId": "a57e13f4-647f-40c3-b38e-6c1ca2bea51f"
      },
      "execution_count": null,
      "outputs": [
        {
          "output_type": "stream",
          "name": "stdout",
          "text": [
            "Gradient Boosting Performance:\n",
            "Optimal Parameters: {'learning_rate': 0.1, 'max_depth': 3, 'n_estimators': 100}\n",
            "MSE: 0.03, RMSE: 0.17, MAE: 0.10, R²: 0.97\n"
          ]
        }
      ]
    },
    {
      "cell_type": "markdown",
      "source": [
        "random regressor\n"
      ],
      "metadata": {
        "id": "kMdE4-zNcvwI"
      }
    },
    {
      "cell_type": "code",
      "source": [
        "from sklearn.ensemble import RandomForestRegressor\n",
        "from sklearn.model_selection import train_test_split, GridSearchCV\n",
        "from sklearn.metrics import mean_squared_error, mean_absolute_error, r2_score\n",
        "from sklearn.preprocessing import StandardScaler\n",
        "\n",
        "\n",
        "# 1. Implement Random Forest Regressor\n",
        "rf_regressor = RandomForestRegressor(random_state=42)\n",
        "\n",
        "# 2. Hyperparameter tuning using GridSearchCV with reduced search space\n",
        "param_grid_rf = {\n",
        "    'n_estimators': [100],  # Use fewer trees for quick testing\n",
        "    'max_depth': [10],  # Reduce the depth of trees\n",
        "    'min_samples_split': [2],  # Keep min_samples_split as 2\n",
        "    'min_samples_leaf': [1],  # Keep min_samples_leaf as 1\n",
        "}\n",
        "\n",
        "grid_search_rf = GridSearchCV(rf_regressor, param_grid_rf, cv=3, scoring='r2')  # Reduce folds to 3\n",
        "grid_search_rf.fit(X_train, y_train)\n",
        "\n",
        "# Best model from grid search\n",
        "best_rf_model = grid_search_rf.best_estimator_\n",
        "\n",
        "# 3. Predictions and evaluation\n",
        "y_pred_rf = best_rf_model.predict(X_test)\n",
        "\n",
        "# Evaluate Random Forest Model\n",
        "mse_rf = mean_squared_error(y_test, y_pred_rf)\n",
        "mae_rf = mean_absolute_error(y_test, y_pred_rf)\n",
        "r2_rf = r2_score(y_test, y_pred_rf)\n",
        "rmse_rf = np.sqrt(mse_rf)\n",
        "\n",
        "print(\"Random Forest Performance:\")\n",
        "print(f\"Optimal Parameters: {grid_search_rf.best_params_}\")\n",
        "print(f\"MSE: {mse_rf:.2f}, RMSE: {rmse_rf:.2f}, MAE: {mae_rf:.2f}, R²: {r2_rf:.2f}\")\n"
      ],
      "metadata": {
        "colab": {
          "base_uri": "https://localhost:8080/"
        },
        "id": "n9tu_ot1cxjS",
        "outputId": "de668ccd-764b-43d9-e480-eca6f5be8b01"
      },
      "execution_count": null,
      "outputs": [
        {
          "output_type": "stream",
          "name": "stdout",
          "text": [
            "Random Forest Performance:\n",
            "Optimal Parameters: {'max_depth': 10, 'min_samples_leaf': 1, 'min_samples_split': 2, 'n_estimators': 100}\n",
            "MSE: 0.02, RMSE: 0.15, MAE: 0.09, R²: 0.98\n"
          ]
        }
      ]
    },
    {
      "cell_type": "markdown",
      "source": [
        "compare\n"
      ],
      "metadata": {
        "id": "mcNmkviye3eN"
      }
    },
    {
      "cell_type": "code",
      "source": [
        "# Create a DataFrame to store evaluation results\n",
        "model_comparison = pd.DataFrame({\n",
        "    'Model': ['Linear Regression', 'Ridge Regression', 'Lasso Regression', 'Gradient Boosting', 'Random Forest'],\n",
        "    'MSE': [mse, mse_ridge, mse_lasso, mse_gb, mse_rf],\n",
        "    'RMSE': [np.sqrt(mse), np.sqrt(mse_ridge), np.sqrt(mse_lasso), rmse_gb, rmse_rf],\n",
        "    'MAE': [mae, mae_ridge, mae_lasso, mae_gb, mae_rf],\n",
        "    'R²': [r2, r2_ridge, r2_lasso, r2_gb, r2_rf]\n",
        "})\n",
        "\n",
        "# Print model comparison\n",
        "print(model_comparison)\n",
        "\n",
        "# Visualize model comparison using bar chart\n",
        "model_comparison.set_index('Model')[['MSE', 'RMSE', 'MAE', 'R²']].plot(kind='bar', figsize=(12, 6))\n",
        "plt.title('Model Comparison: Evaluation Metrics')\n",
        "plt.ylabel('Scores')\n",
        "plt.xticks(rotation=45)\n",
        "plt.tight_layout()\n",
        "plt.show()\n"
      ],
      "metadata": {
        "colab": {
          "base_uri": "https://localhost:8080/",
          "height": 711
        },
        "id": "T4pTWwm_e465",
        "outputId": "c6ed040f-ae84-4c3a-df7d-6c06e39fc1c1"
      },
      "execution_count": null,
      "outputs": [
        {
          "output_type": "stream",
          "name": "stdout",
          "text": [
            "               Model       MSE      RMSE       MAE        R²\n",
            "0  Linear Regression  0.068321  0.261384  0.161787  0.928830\n",
            "1   Ridge Regression  0.122430  0.349900  0.232699  0.872443\n",
            "2   Lasso Regression  0.122400  0.349857  0.232573  0.872497\n",
            "3  Gradient Boosting  0.027814  0.166776  0.098456  0.971026\n",
            "4      Random Forest  0.021694  0.147290  0.086773  0.977401\n"
          ]
        },
        {
          "output_type": "display_data",
          "data": {
            "text/plain": [
              "<Figure size 1200x600 with 1 Axes>"
            ],
            "image/png": "[encoded data removed]"
          },
          "metadata": {}
        }
      ]
    }
  ]
}